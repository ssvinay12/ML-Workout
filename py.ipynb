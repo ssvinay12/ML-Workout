{
 "cells": [
  {
   "cell_type": "code",
   "execution_count": 1,
   "id": "7115d9ef",
   "metadata": {},
   "outputs": [
    {
     "name": "stdout",
     "output_type": "stream",
     "text": [
      "Welcome-To-Turing\n"
     ]
    }
   ],
   "source": [
    "array = ['Welcome', 'To', 'Turing']\n",
    "print(\"-\".join(array))"
   ]
  },
  {
   "cell_type": "code",
   "execution_count": 2,
   "id": "327cbd75",
   "metadata": {},
   "outputs": [
    {
     "ename": "SyntaxError",
     "evalue": "invalid syntax (Temp/ipykernel_26940/2807991234.py, line 4)",
     "output_type": "error",
     "traceback": [
      "\u001b[1;36m  File \u001b[1;32m\"C:\\Users\\SAIVIN~1\\AppData\\Local\\Temp/ipykernel_26940/2807991234.py\"\u001b[1;36m, line \u001b[1;32m4\u001b[0m\n\u001b[1;33m    i = i + ', Welcome to Turing'return i\u001b[0m\n\u001b[1;37m                                 ^\u001b[0m\n\u001b[1;31mSyntaxError\u001b[0m\u001b[1;31m:\u001b[0m invalid syntax\n"
     ]
    }
   ],
   "source": [
    "i = 'Welcome'\n",
    "\n",
    "def welcome(i):\n",
    "    i = i + ', Welcome to Turing'return i\n",
    " \n",
    "welcome('Developer')\n",
    "print(i)"
   ]
  },
  {
   "cell_type": "code",
   "execution_count": 3,
   "id": "df2e9578",
   "metadata": {},
   "outputs": [
    {
     "name": "stdout",
     "output_type": "stream",
     "text": [
      "Welcome to  Turing\n"
     ]
    }
   ],
   "source": [
    "class Welcome:\n",
    "    \n",
    "    def __init__(self, name):\n",
    "        self.name = name\n",
    "\n",
    "    def say_hello(self):\n",
    "        print('Welcome to ', self.name)\n",
    "\n",
    "cw = Welcome('Turing')\n",
    "cw.say_hello()"
   ]
  },
  {
   "cell_type": "code",
   "execution_count": 4,
   "id": "56e42f7d",
   "metadata": {},
   "outputs": [
    {
     "name": "stdout",
     "output_type": "stream",
     "text": [
      "[2, 3, 4]\n"
     ]
    }
   ],
   "source": [
    "data = [1, 2, 3]\n",
    "\n",
    "def incr(x): \n",
    "    return x + 1\n",
    "print(list(map(incr,data)))"
   ]
  },
  {
   "cell_type": "code",
   "execution_count": 5,
   "id": "d603f62d",
   "metadata": {},
   "outputs": [
    {
     "name": "stdout",
     "output_type": "stream",
     "text": [
      "abcd\n"
     ]
    }
   ],
   "source": [
    "alphabets = 'abcd'\n",
    "\n",
    "for i in range(len(alphabets)):\n",
    "    alphabets[i].upper()\n",
    "\n",
    "print(alphabets)"
   ]
  },
  {
   "cell_type": "code",
   "execution_count": 8,
   "id": "16a23a66",
   "metadata": {},
   "outputs": [
    {
     "ename": "SyntaxError",
     "evalue": "'return' outside function (Temp/ipykernel_26940/3562702028.py, line 3)",
     "output_type": "error",
     "traceback": [
      "\u001b[1;36m  File \u001b[1;32m\"C:\\Users\\SAIVIN~1\\AppData\\Local\\Temp/ipykernel_26940/3562702028.py\"\u001b[1;36m, line \u001b[1;32m3\u001b[0m\n\u001b[1;33m    return x\u001b[0m\n\u001b[1;37m    ^\u001b[0m\n\u001b[1;31mSyntaxError\u001b[0m\u001b[1;31m:\u001b[0m 'return' outside function\n"
     ]
    }
   ],
   "source": [
    "def func1():\n",
    "     x = 50\n",
    "        \n",
    "return x\n",
    "\n",
    "func1()\n",
    "print(x)"
   ]
  },
  {
   "cell_type": "code",
   "execution_count": 9,
   "id": "b5faee6c",
   "metadata": {},
   "outputs": [
    {
     "name": "stdout",
     "output_type": "stream",
     "text": [
      "[2, 2]\n"
     ]
    }
   ],
   "source": [
    "\n",
    "\n",
    "x = ['ab', 'cd']\n",
    "\n",
    "print(list(map(len, x)))"
   ]
  },
  {
   "cell_type": "code",
   "execution_count": 10,
   "id": "a8042d96",
   "metadata": {},
   "outputs": [
    {
     "ename": "TypeError",
     "evalue": "'int' object is not callable",
     "output_type": "error",
     "traceback": [
      "\u001b[1;31m---------------------------------------------------------------------------\u001b[0m",
      "\u001b[1;31mTypeError\u001b[0m                                 Traceback (most recent call last)",
      "\u001b[1;32mC:\\Users\\SAIVIN~1\\AppData\\Local\\Temp/ipykernel_26940/123783084.py\u001b[0m in \u001b[0;36m<module>\u001b[1;34m\u001b[0m\n\u001b[0;32m      1\u001b[0m \u001b[0mx\u001b[0m \u001b[1;33m=\u001b[0m \u001b[1;33m[\u001b[0m\u001b[1;34m'ab'\u001b[0m\u001b[1;33m,\u001b[0m \u001b[1;34m'cd'\u001b[0m\u001b[1;33m]\u001b[0m\u001b[1;33m\u001b[0m\u001b[1;33m\u001b[0m\u001b[0m\n\u001b[0;32m      2\u001b[0m \u001b[1;33m\u001b[0m\u001b[0m\n\u001b[1;32m----> 3\u001b[1;33m \u001b[0mprint\u001b[0m\u001b[1;33m(\u001b[0m\u001b[0mlist\u001b[0m\u001b[1;33m(\u001b[0m\u001b[0mmap\u001b[0m\u001b[1;33m(\u001b[0m\u001b[0mlen\u001b[0m\u001b[1;33m(\u001b[0m\u001b[0mx\u001b[0m\u001b[1;33m)\u001b[0m\u001b[1;33m,\u001b[0m \u001b[0mx\u001b[0m\u001b[1;33m)\u001b[0m\u001b[1;33m)\u001b[0m\u001b[1;33m)\u001b[0m\u001b[1;33m\u001b[0m\u001b[1;33m\u001b[0m\u001b[0m\n\u001b[0m",
      "\u001b[1;31mTypeError\u001b[0m: 'int' object is not callable"
     ]
    }
   ],
   "source": [
    "x = ['ab', 'cd']\n",
    "\n",
    "print(list(map(len(x), x)))"
   ]
  },
  {
   "cell_type": "code",
   "execution_count": 11,
   "id": "4a744f1d",
   "metadata": {},
   "outputs": [
    {
     "ename": "AttributeError",
     "evalue": "'list' object has no attribute 'len'",
     "output_type": "error",
     "traceback": [
      "\u001b[1;31m---------------------------------------------------------------------------\u001b[0m",
      "\u001b[1;31mAttributeError\u001b[0m                            Traceback (most recent call last)",
      "\u001b[1;32mC:\\Users\\SAIVIN~1\\AppData\\Local\\Temp/ipykernel_26940/2313157735.py\u001b[0m in \u001b[0;36m<module>\u001b[1;34m\u001b[0m\n\u001b[0;32m      1\u001b[0m \u001b[0mx\u001b[0m \u001b[1;33m=\u001b[0m \u001b[1;33m[\u001b[0m\u001b[1;34m'ab'\u001b[0m\u001b[1;33m,\u001b[0m \u001b[1;34m'cd'\u001b[0m\u001b[1;33m]\u001b[0m\u001b[1;33m\u001b[0m\u001b[1;33m\u001b[0m\u001b[0m\n\u001b[0;32m      2\u001b[0m \u001b[1;33m\u001b[0m\u001b[0m\n\u001b[1;32m----> 3\u001b[1;33m \u001b[0mprint\u001b[0m\u001b[1;33m(\u001b[0m\u001b[0mlist\u001b[0m\u001b[1;33m(\u001b[0m\u001b[0mmap\u001b[0m\u001b[1;33m(\u001b[0m\u001b[0mx\u001b[0m\u001b[1;33m.\u001b[0m\u001b[0mlen\u001b[0m\u001b[1;33m,\u001b[0m \u001b[0mx\u001b[0m\u001b[1;33m)\u001b[0m\u001b[1;33m)\u001b[0m\u001b[1;33m)\u001b[0m\u001b[1;33m\u001b[0m\u001b[1;33m\u001b[0m\u001b[0m\n\u001b[0m",
      "\u001b[1;31mAttributeError\u001b[0m: 'list' object has no attribute 'len'"
     ]
    }
   ],
   "source": [
    "x = ['ab', 'cd']\n",
    "\n",
    "print(list(map(x.len, x)))"
   ]
  },
  {
   "cell_type": "code",
   "execution_count": 12,
   "id": "04591bbb",
   "metadata": {},
   "outputs": [
    {
     "name": "stdout",
     "output_type": "stream",
     "text": [
      "[2, 2]\n"
     ]
    }
   ],
   "source": [
    "x = ['ab', 'cd']\n",
    "\n",
    "print(list(map(lambda x: len(x), x)))"
   ]
  },
  {
   "cell_type": "code",
   "execution_count": 13,
   "id": "26976a3b",
   "metadata": {},
   "outputs": [
    {
     "name": "stdout",
     "output_type": "stream",
     "text": [
      "True\n"
     ]
    }
   ],
   "source": [
    "f = None\n",
    "for i in range(5):\n",
    "    with open(\"app.log\", \"w\") as f:\n",
    "        if i > 2:\n",
    "            break\n",
    "\n",
    "print(f.closed)"
   ]
  },
  {
   "cell_type": "code",
   "execution_count": 14,
   "id": "2b8fb8e1",
   "metadata": {},
   "outputs": [
    {
     "name": "stdout",
     "output_type": "stream",
     "text": [
      "512 64 512\n"
     ]
    }
   ],
   "source": [
    "print(2**(3**2), (2**3)**2, (2**3)**3)"
   ]
  },
  {
   "cell_type": "code",
   "execution_count": 15,
   "id": "c1a1cf57",
   "metadata": {},
   "outputs": [
    {
     "name": "stdout",
     "output_type": "stream",
     "text": [
      "['t', 'u', 'r', 'i', 'n', 'g']\n"
     ]
    }
   ],
   "source": [
    "print([i.lower() for i in \"TURING\"])"
   ]
  },
  {
   "cell_type": "code",
   "execution_count": 16,
   "id": "929fd234",
   "metadata": {},
   "outputs": [
    {
     "name": "stdout",
     "output_type": "stream",
     "text": [
      "Welcome to turing\n"
     ]
    }
   ],
   "source": [
    "print(\"Welcome to TURING\" .capitalize())"
   ]
  },
  {
   "cell_type": "code",
   "execution_count": 17,
   "id": "ddedd29f",
   "metadata": {},
   "outputs": [
    {
     "name": "stdout",
     "output_type": "stream",
     "text": [
      "Welcome to Turing\n"
     ]
    }
   ],
   "source": [
    "\n",
    "t = '%(a)s %(b)s %(c)s'\n",
    "print(t % dict(a='Welcome', b='to', c='Turing'))"
   ]
  },
  {
   "cell_type": "code",
   "execution_count": 18,
   "id": "eb27d09b",
   "metadata": {},
   "outputs": [
    {
     "ename": "SyntaxError",
     "evalue": "invalid syntax (Temp/ipykernel_26940/3087751009.py, line 14)",
     "output_type": "error",
     "traceback": [
      "\u001b[1;36m  File \u001b[1;32m\"C:\\Users\\SAIVIN~1\\AppData\\Local\\Temp/ipykernel_26940/3087751009.py\"\u001b[1;36m, line \u001b[1;32m14\u001b[0m\n\u001b[1;33m    Which functions are called when print(A + B) is executed\u001b[0m\n\u001b[1;37m          ^\u001b[0m\n\u001b[1;31mSyntaxError\u001b[0m\u001b[1;31m:\u001b[0m invalid syntax\n"
     ]
    }
   ],
   "source": [
    "class Developer(object):\n",
    "  def __init__(self, skills):\n",
    "    self.skills = skills\n",
    "\n",
    "  def __add__(self, other):\n",
    "    skills = self.skills + other.skills\n",
    "    return Developer(skills)\n",
    "\n",
    "  def __str__(self):\n",
    "    return \"Skills\"\n",
    "\n",
    "A = Developer('NodeJS')\n",
    "B = Developer('Python')\n",
    "Which functions are called when print(A + B) is executed"
   ]
  },
  {
   "cell_type": "code",
   "execution_count": 21,
   "id": "827bf743",
   "metadata": {},
   "outputs": [
    {
     "name": "stdout",
     "output_type": "stream",
     "text": [
      "Welcome to Turing with Junior developer with skill NodeJS\n"
     ]
    }
   ],
   "source": [
    "class Developer:\n",
    "\n",
    "    def __init__(self):\n",
    "        self.__seniority = 'Junior'\n",
    "        self.skills = ''\n",
    "\n",
    "    def display(self):\n",
    "        print('Welcome to Turing with {seniority} developer with skill {skills}'.format(seniority=self.__seniority, skills=self.skills))\n",
    "                                                                                    \n",
    "\n",
    "class NodeJS(Developer):\n",
    "\n",
    "    def __init__(self):\n",
    "        super().__init__() \n",
    "        self.__seniority = 'Senior'\n",
    "        self.skills = 'NodeJS'\n",
    "        \n",
    "c = NodeJS()\n",
    "c.display()"
   ]
  },
  {
   "cell_type": "code",
   "execution_count": null,
   "id": "0a131763",
   "metadata": {},
   "outputs": [],
   "source": [
    "inputs = ['nodejs', 'reactjs', 'vuejs']\n",
    "print(inputs)\n",
    "\n",
    "for i in inputs:\n",
    "    inputs.append(i.upper())\n",
    "    \n",
    "print(inputs)"
   ]
  },
  {
   "cell_type": "code",
   "execution_count": null,
   "id": "a6dd3c93",
   "metadata": {},
   "outputs": [],
   "source": [
    "def listSkills(val, list=[]):\n",
    "    list.append(val)\n",
    "    return list\n",
    "\n",
    "list1 = listSkills('NodeJS')\n",
    "list2 = listSkills('Java', [])\n",
    "list3 = listSkills('ReactJS')\n",
    "print(\"%s\" % list1)\n",
    "print(\"%s\" % list2)\n",
    "print(\"%s\" % list3)"
   ]
  },
  {
   "cell_type": "code",
   "execution_count": null,
   "id": "eecf31b2",
   "metadata": {},
   "outputs": [],
   "source": []
  }
 ],
 "metadata": {
  "kernelspec": {
   "display_name": "Python 3 (ipykernel)",
   "language": "python",
   "name": "python3"
  },
  "language_info": {
   "codemirror_mode": {
    "name": "ipython",
    "version": 3
   },
   "file_extension": ".py",
   "mimetype": "text/x-python",
   "name": "python",
   "nbconvert_exporter": "python",
   "pygments_lexer": "ipython3",
   "version": "3.9.12"
  }
 },
 "nbformat": 4,
 "nbformat_minor": 5
}
